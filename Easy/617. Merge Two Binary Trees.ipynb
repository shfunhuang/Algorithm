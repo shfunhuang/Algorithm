{
 "cells": [
  {
   "cell_type": "code",
   "execution_count": 1,
   "metadata": {},
   "outputs": [
    {
     "name": "stdout",
     "output_type": "stream",
     "text": [
      "https://leetcode.com/problems/merge-two-binary-trees/\n"
     ]
    }
   ],
   "source": [
    "print 'https://leetcode.com/problems/merge-two-binary-trees/'"
   ]
  },
  {
   "cell_type": "code",
   "execution_count": 2,
   "metadata": {},
   "outputs": [
    {
     "name": "stdout",
     "output_type": "stream",
     "text": [
      "http://interactivepython.org/runestone/static/pythonds/Trees/SearchTreeImplementation.html\n"
     ]
    }
   ],
   "source": [
    "print 'http://interactivepython.org/runestone/static/pythonds/Trees/SearchTreeImplementation.html'"
   ]
  },
  {
   "cell_type": "markdown",
   "metadata": {},
   "source": [
    "### anytree example"
   ]
  },
  {
   "cell_type": "code",
   "execution_count": 3,
   "metadata": {},
   "outputs": [
    {
     "name": "stdout",
     "output_type": "stream",
     "text": [
      "https://anytree.readthedocs.io/en/latest/intro.html\n"
     ]
    }
   ],
   "source": [
    "print 'https://anytree.readthedocs.io/en/latest/intro.html'"
   ]
  },
  {
   "cell_type": "code",
   "execution_count": 3,
   "metadata": {},
   "outputs": [
    {
     "name": "stdout",
     "output_type": "stream",
     "text": [
      "Node('/Udo')\n",
      "Node('/Marc')\n",
      "└── Node('/Marc/Lian')\n"
     ]
    }
   ],
   "source": [
    "#Basics\n",
    "from anytree import Node, RenderTree\n",
    "udo = Node(\"Udo\")\n",
    "marc = Node(\"Marc\")\n",
    "lian = Node(\"Lian\", parent=marc)\n",
    "print(RenderTree(udo))\n",
    "Node('/Udo')\n",
    "print(RenderTree(marc))"
   ]
  },
  {
   "cell_type": "code",
   "execution_count": 4,
   "metadata": {},
   "outputs": [
    {
     "data": {
      "text/plain": [
       "()"
      ]
     },
     "execution_count": 4,
     "metadata": {},
     "output_type": "execute_result"
    }
   ],
   "source": [
    "udo.children"
   ]
  },
  {
   "cell_type": "code",
   "execution_count": 10,
   "metadata": {},
   "outputs": [
    {
     "name": "stdout",
     "output_type": "stream",
     "text": [
      "Node('/Udo')\n",
      "└── Node('/Udo/Marc')\n",
      "    └── Node('/Udo/Marc/Lian')\n"
     ]
    }
   ],
   "source": [
    "#Single Node Attach\n",
    "marc.parent = udo\n",
    "print(RenderTree(udo))"
   ]
  },
  {
   "cell_type": "code",
   "execution_count": 11,
   "metadata": {},
   "outputs": [
    {
     "data": {
      "text/plain": [
       "False"
      ]
     },
     "execution_count": 11,
     "metadata": {},
     "output_type": "execute_result"
    }
   ],
   "source": [
    "#Single Node Detach\n",
    "marc.is_root"
   ]
  },
  {
   "cell_type": "code",
   "execution_count": 12,
   "metadata": {},
   "outputs": [
    {
     "data": {
      "text/plain": [
       "True"
      ]
     },
     "execution_count": 12,
     "metadata": {},
     "output_type": "execute_result"
    }
   ],
   "source": [
    "marc.parent = None\n",
    "marc.is_root"
   ]
  },
  {
   "cell_type": "code",
   "execution_count": 13,
   "metadata": {},
   "outputs": [
    {
     "data": {
      "text/plain": [
       "(Node('/n/a'), Node('/n/b'), Node('/n/c'))"
      ]
     },
     "execution_count": 13,
     "metadata": {},
     "output_type": "execute_result"
    }
   ],
   "source": [
    "#Modify Multiple Child Nodes\n",
    "n = Node(\"n\")\n",
    "a = Node(\"a\", parent=n)\n",
    "b = Node(\"b\", parent=n)\n",
    "c = Node(\"c\", parent=n)\n",
    "d = Node(\"d\")\n",
    "n.children"
   ]
  },
  {
   "cell_type": "code",
   "execution_count": 16,
   "metadata": {},
   "outputs": [
    {
     "data": {
      "text/plain": [
       "(Node('/n/a'), Node('/n/b'))"
      ]
     },
     "execution_count": 16,
     "metadata": {},
     "output_type": "execute_result"
    }
   ],
   "source": [
    "n.children = [a, b]\n",
    "n.children"
   ]
  },
  {
   "cell_type": "code",
   "execution_count": 18,
   "metadata": {},
   "outputs": [
    {
     "data": {
      "text/plain": [
       "Node('/c')"
      ]
     },
     "execution_count": 18,
     "metadata": {},
     "output_type": "execute_result"
    }
   ],
   "source": [
    "#the node c does not vanish and is the root of its own tree.\n",
    "c"
   ]
  },
  {
   "cell_type": "code",
   "execution_count": 25,
   "metadata": {},
   "outputs": [
    {
     "data": {
      "text/plain": [
       "Node('/d')"
      ]
     },
     "execution_count": 25,
     "metadata": {},
     "output_type": "execute_result"
    }
   ],
   "source": [
    "#Adding works likewise.\n",
    "d = Node(\"d\")\n",
    "d"
   ]
  },
  {
   "cell_type": "code",
   "execution_count": 26,
   "metadata": {},
   "outputs": [
    {
     "data": {
      "text/plain": [
       "(Node('/n/a'), Node('/n/b'), Node('/n/d'))"
      ]
     },
     "execution_count": 26,
     "metadata": {},
     "output_type": "execute_result"
    }
   ],
   "source": [
    "n.children = [a, b, d]\n",
    "n.children"
   ]
  },
  {
   "cell_type": "code",
   "execution_count": 27,
   "metadata": {},
   "outputs": [
    {
     "data": {
      "text/plain": [
       "Node('/n/d')"
      ]
     },
     "execution_count": 27,
     "metadata": {},
     "output_type": "execute_result"
    }
   ],
   "source": [
    "d"
   ]
  },
  {
   "cell_type": "code",
   "execution_count": null,
   "metadata": {},
   "outputs": [],
   "source": [
    "#Detach/Attach Protocol\n"
   ]
  }
 ],
 "metadata": {
  "kernelspec": {
   "display_name": "Python 2",
   "language": "python",
   "name": "python2"
  },
  "language_info": {
   "codemirror_mode": {
    "name": "ipython",
    "version": 2
   },
   "file_extension": ".py",
   "mimetype": "text/x-python",
   "name": "python",
   "nbconvert_exporter": "python",
   "pygments_lexer": "ipython2",
   "version": "2.7.15"
  }
 },
 "nbformat": 4,
 "nbformat_minor": 2
}
