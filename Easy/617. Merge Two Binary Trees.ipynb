{
 "cells": [
  {
   "cell_type": "code",
   "execution_count": 1,
   "metadata": {},
   "outputs": [
    {
     "name": "stdout",
     "output_type": "stream",
     "text": [
      "https://leetcode.com/problems/merge-two-binary-trees/\n"
     ]
    }
   ],
   "source": [
    "print 'https://leetcode.com/problems/merge-two-binary-trees/'"
   ]
  },
  {
   "cell_type": "code",
   "execution_count": 8,
   "metadata": {},
   "outputs": [
    {
     "name": "stdout",
     "output_type": "stream",
     "text": [
      "http://interactivepython.org/runestone/static/pythonds/Trees/SearchTreeImplementation.html\n"
     ]
    }
   ],
   "source": [
    "print 'http://interactivepython.org/runestone/static/pythonds/Trees/SearchTreeImplementation.html';"
   ]
  },
  {
   "cell_type": "markdown",
   "metadata": {},
   "source": [
    "## anytree example"
   ]
  },
  {
   "cell_type": "code",
   "execution_count": 15,
   "metadata": {},
   "outputs": [
    {
     "name": "stdout",
     "output_type": "stream",
     "text": [
      "https://anytree.readthedocs.io/en/latest/\n"
     ]
    }
   ],
   "source": [
    "print 'https://anytree.readthedocs.io/en/latest/';\n",
    "from anytree import Node, RenderTree"
   ]
  },
  {
   "cell_type": "code",
   "execution_count": 12,
   "metadata": {},
   "outputs": [],
   "source": [
    "# Construction\n",
    "udo = Node(\"Udo\")\n",
    "marc = Node(\"Marc\", parent=udo)\n",
    "lian = Node(\"Lian\", parent=marc)\n",
    "dan = Node(\"Dan\", parent=udo)\n",
    "jet = Node(\"Jet\", parent=dan)\n",
    "joe = Node(\"Joe\", parent=dan)"
   ]
  },
  {
   "cell_type": "code",
   "execution_count": 13,
   "metadata": {},
   "outputs": [
    {
     "name": "stdout",
     "output_type": "stream",
     "text": [
      "Node('/Udo')\n",
      "Node('/Udo/Dan/Joe')\n"
     ]
    }
   ],
   "source": [
    "# Node\n",
    "print(udo)\n",
    "print(joe)"
   ]
  },
  {
   "cell_type": "code",
   "execution_count": 14,
   "metadata": {},
   "outputs": [
    {
     "name": "stdout",
     "output_type": "stream",
     "text": [
      "Udo\n",
      "├── Marc\n",
      "│   └── Lian\n",
      "└── Dan\n",
      "    ├── Jet\n",
      "    └── Joe\n"
     ]
    }
   ],
   "source": [
    "# Tree\n",
    "for pre, fill, node in RenderTree(udo):\n",
    "    print(\"%s%s\" % (pre, node.name))"
   ]
  },
  {
   "cell_type": "code",
   "execution_count": 19,
   "metadata": {},
   "outputs": [],
   "source": [
    "from anytree.exporter import DotExporter\n",
    "# graphviz needs to be installed for the next line!\n",
    "#DotExporter(udo).to_picture(\"udo.png\")"
   ]
  },
  {
   "cell_type": "code",
   "execution_count": 18,
   "metadata": {},
   "outputs": [
    {
     "name": "stdout",
     "output_type": "stream",
     "text": [
      "Node('/Mary')\n",
      "├── Node('/Mary/Urs')\n",
      "├── Node('/Mary/Chris')\n",
      "└── Node('/Mary/Marta')\n"
     ]
    }
   ],
   "source": [
    "#Manipulation\n",
    "#A second tree:\n",
    "mary = Node(\"Mary\")\n",
    "urs = Node(\"Urs\", parent=mary)\n",
    "chris = Node(\"Chris\", parent=mary)\n",
    "marta = Node(\"Marta\", parent=mary)\n",
    "print(RenderTree(mary))"
   ]
  },
  {
   "cell_type": "code",
   "execution_count": 20,
   "metadata": {},
   "outputs": [
    {
     "name": "stdout",
     "output_type": "stream",
     "text": [
      "Node('/Mary')\n",
      "├── Node('/Mary/Urs')\n",
      "├── Node('/Mary/Chris')\n",
      "├── Node('/Mary/Marta')\n",
      "└── Node('/Mary/Udo')\n",
      "    ├── Node('/Mary/Udo/Marc')\n",
      "    │   └── Node('/Mary/Udo/Marc/Lian')\n",
      "    └── Node('/Mary/Udo/Dan')\n",
      "        ├── Node('/Mary/Udo/Dan/Jet')\n",
      "        └── Node('/Mary/Udo/Dan/Joe')\n"
     ]
    }
   ],
   "source": [
    "#Append\n",
    "udo.parent = mary\n",
    "print(RenderTree(mary))"
   ]
  },
  {
   "cell_type": "code",
   "execution_count": 21,
   "metadata": {},
   "outputs": [
    {
     "name": "stdout",
     "output_type": "stream",
     "text": [
      "Node('/Mary/Udo/Marc')\n",
      "└── Node('/Mary/Udo/Marc/Lian')\n"
     ]
    }
   ],
   "source": [
    "#Subtree rendering:\n",
    "print(RenderTree(marc))"
   ]
  },
  {
   "cell_type": "code",
   "execution_count": 23,
   "metadata": {},
   "outputs": [
    {
     "name": "stdout",
     "output_type": "stream",
     "text": [
      "Node('/Dan')\n",
      "├── Node('/Dan/Jet')\n",
      "└── Node('/Dan/Joe')\n"
     ]
    }
   ],
   "source": [
    "#Cut:\n",
    "dan.parent = None\n",
    "print(RenderTree(dan))"
   ]
  },
  {
   "cell_type": "code",
   "execution_count": null,
   "metadata": {},
   "outputs": [],
   "source": []
  }
 ],
 "metadata": {
  "kernelspec": {
   "display_name": "Python 2",
   "language": "python",
   "name": "python2"
  },
  "language_info": {
   "codemirror_mode": {
    "name": "ipython",
    "version": 2
   },
   "file_extension": ".py",
   "mimetype": "text/x-python",
   "name": "python",
   "nbconvert_exporter": "python",
   "pygments_lexer": "ipython2",
   "version": "2.7.15"
  }
 },
 "nbformat": 4,
 "nbformat_minor": 2
}
