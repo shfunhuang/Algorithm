{
 "cells": [
  {
   "cell_type": "markdown",
   "metadata": {},
   "source": [
    "#### Graph"
   ]
  },
  {
   "cell_type": "code",
   "execution_count": 6,
   "metadata": {},
   "outputs": [],
   "source": [
    "graph = {}"
   ]
  },
  {
   "cell_type": "code",
   "execution_count": 7,
   "metadata": {},
   "outputs": [],
   "source": [
    "graph['you'] = ['alice', 'bob', 'claire']\n",
    "graph['bob'] = ['anuj', 'peggy']\n",
    "graph['alice'] = ['peggy']\n",
    "graph['claire'] = ['thom', 'jonny']\n",
    "graph['anuj'] = []\n",
    "graph['peggy'] = []\n",
    "graph['thom'] = []\n",
    "graph['jonny'] = []"
   ]
  },
  {
   "cell_type": "markdown",
   "metadata": {},
   "source": [
    "#### Directed Graph and Undirected Graph"
   ]
  },
  {
   "cell_type": "markdown",
   "metadata": {},
   "source": [
    "#### Deque"
   ]
  },
  {
   "cell_type": "code",
   "execution_count": 9,
   "metadata": {},
   "outputs": [],
   "source": [
    "from collections import deque"
   ]
  },
  {
   "cell_type": "code",
   "execution_count": 50,
   "metadata": {},
   "outputs": [],
   "source": [
    "def person_is_seller(name):\n",
    "    return name[-1] == 'm'\n",
    "\n",
    "\n",
    "def search(name):\n",
    "    search_queue = deque()\n",
    "    search_queue += graph[name]\n",
    "    searched = [] #check if search\n",
    "    \n",
    "    while(search_queue):\n",
    "        person = search_queue.popleft()\n",
    "        print(person)\n",
    "        \n",
    "        if not person in searched: #check if searched\n",
    "            if person_is_seller(person):\n",
    "                print person + ' is a mongo seller!'\n",
    "                return True\n",
    "\n",
    "            else:\n",
    "                search_queue += graph[person]\n",
    "                print search_queue\n",
    "                searched.append(person) #mark the person checked\n",
    "\n",
    "    return False"
   ]
  },
  {
   "cell_type": "code",
   "execution_count": 52,
   "metadata": {},
   "outputs": [
    {
     "data": {
      "text/plain": [
       "{'alice': ['peggy'],\n",
       " 'anuj': [],\n",
       " 'bob': ['anuj', 'peggy'],\n",
       " 'claire': ['thom', 'jonny'],\n",
       " 'jonny': [],\n",
       " 'peggy': [],\n",
       " 'thom': [],\n",
       " 'you': ['alice', 'bob', 'claire']}"
      ]
     },
     "execution_count": 52,
     "metadata": {},
     "output_type": "execute_result"
    }
   ],
   "source": [
    "graph"
   ]
  },
  {
   "cell_type": "code",
   "execution_count": 51,
   "metadata": {},
   "outputs": [
    {
     "name": "stdout",
     "output_type": "stream",
     "text": [
      "alice\n",
      "deque(['bob', 'claire', 'peggy'])\n",
      "bob\n",
      "deque(['claire', 'peggy', 'anuj', 'peggy'])\n",
      "claire\n",
      "deque(['peggy', 'anuj', 'peggy', 'thom', 'jonny'])\n",
      "peggy\n",
      "deque(['anuj', 'peggy', 'thom', 'jonny'])\n",
      "anuj\n",
      "deque(['peggy', 'thom', 'jonny'])\n",
      "peggy\n",
      "thom\n",
      "thom is a mongo seller!\n"
     ]
    },
    {
     "data": {
      "text/plain": [
       "True"
      ]
     },
     "execution_count": 51,
     "metadata": {},
     "output_type": "execute_result"
    }
   ],
   "source": [
    "search('you')"
   ]
  },
  {
   "cell_type": "code",
   "execution_count": null,
   "metadata": {},
   "outputs": [],
   "source": []
  }
 ],
 "metadata": {
  "kernelspec": {
   "display_name": "Python 2",
   "language": "python",
   "name": "python2"
  },
  "language_info": {
   "codemirror_mode": {
    "name": "ipython",
    "version": 2
   },
   "file_extension": ".py",
   "mimetype": "text/x-python",
   "name": "python",
   "nbconvert_exporter": "python",
   "pygments_lexer": "ipython2",
   "version": "2.7.15"
  }
 },
 "nbformat": 4,
 "nbformat_minor": 2
}
