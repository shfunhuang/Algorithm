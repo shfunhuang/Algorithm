{
 "cells": [
  {
   "cell_type": "markdown",
   "metadata": {},
   "source": [
    "#### Approximation Algorithm"
   ]
  },
  {
   "cell_type": "code",
   "execution_count": 143,
   "metadata": {},
   "outputs": [
    {
     "name": "stdout",
     "output_type": "stream",
     "text": [
      "set(['wa', 'ut', 'id', 'mt', 'or', 'nv'])\n"
     ]
    }
   ],
   "source": [
    "states_needed = set(['mt', 'wa', 'or', 'id', 'nv', 'ut'])\n",
    "print(states_needed)"
   ]
  },
  {
   "cell_type": "code",
   "execution_count": 144,
   "metadata": {},
   "outputs": [
    {
     "name": "stdout",
     "output_type": "stream",
     "text": [
      "{'kfive': set(['ca', 'az']), 'ktwo': set(['mt', 'id', 'wa']), 'kthree': set(['ca', 'or', 'nv']), 'kone': set(['ut', 'id', 'nv']), 'kfour': set(['ut', 'nv'])}\n"
     ]
    }
   ],
   "source": [
    "stations = {}\n",
    "stations['kone'] = set(['id', 'nv', 'ut'])\n",
    "stations['ktwo'] = set(['wa', 'id', 'mt'])\n",
    "stations['kthree'] = set(['or', 'nv', 'ca'])\n",
    "stations['kfour'] = set(['nv', 'ut'])\n",
    "stations['kfive'] = set(['ca', 'az'])\n",
    "print(stations)"
   ]
  },
  {
   "cell_type": "code",
   "execution_count": 145,
   "metadata": {},
   "outputs": [
    {
     "name": "stdout",
     "output_type": "stream",
     "text": [
      "('Round:', 0)\n",
      "('states_needed:', set(['wa', 'ut', 'id', 'mt', 'or', 'nv']))\n",
      "('station:', 'kfive', set(['ca', 'az']))\n",
      "('covered:', set([]), 'len(covered):', 0, ', len(states_covered):', 0)\n",
      "('station:', 'ktwo', set(['mt', 'id', 'wa']))\n",
      "('covered:', set(['mt', 'id', 'wa']), 'len(covered):', 3, ', len(states_covered):', 0)\n",
      "('best_station:', 'ktwo', ', states_covered:', set(['mt', 'id', 'wa']))\n",
      "('states_needed:', set(['ut', 'or', 'nv']))\n",
      "('station:', 'kthree', set(['ca', 'or', 'nv']))\n",
      "('covered:', set(['or', 'nv']), 'len(covered):', 2, ', len(states_covered):', 3)\n",
      "('station:', 'kone', set(['ut', 'id', 'nv']))\n",
      "('covered:', set(['ut', 'nv']), 'len(covered):', 2, ', len(states_covered):', 3)\n",
      "('station:', 'kfour', set(['ut', 'nv']))\n",
      "('covered:', set(['ut', 'nv']), 'len(covered):', 2, ', len(states_covered):', 3)\n",
      "('Round:', 1)\n",
      "('states_needed:', set(['ut', 'or', 'nv']))\n",
      "('station:', 'kfive', set(['ca', 'az']))\n",
      "('covered:', set([]), 'len(covered):', 0, ', len(states_covered):', 0)\n",
      "('station:', 'ktwo', set(['mt', 'id', 'wa']))\n",
      "('covered:', set([]), 'len(covered):', 0, ', len(states_covered):', 0)\n",
      "('station:', 'kthree', set(['ca', 'or', 'nv']))\n",
      "('covered:', set(['or', 'nv']), 'len(covered):', 2, ', len(states_covered):', 0)\n",
      "('best_station:', 'kthree', ', states_covered:', set(['or', 'nv']))\n",
      "('states_needed:', set(['ut']))\n",
      "('station:', 'kone', set(['ut', 'id', 'nv']))\n",
      "('covered:', set(['ut']), 'len(covered):', 1, ', len(states_covered):', 2)\n",
      "('station:', 'kfour', set(['ut', 'nv']))\n",
      "('covered:', set(['ut']), 'len(covered):', 1, ', len(states_covered):', 2)\n",
      "('Round:', 2)\n",
      "('states_needed:', set(['ut']))\n",
      "('station:', 'kfive', set(['ca', 'az']))\n",
      "('covered:', set([]), 'len(covered):', 0, ', len(states_covered):', 0)\n",
      "('station:', 'ktwo', set(['mt', 'id', 'wa']))\n",
      "('covered:', set([]), 'len(covered):', 0, ', len(states_covered):', 0)\n",
      "('station:', 'kthree', set(['ca', 'or', 'nv']))\n",
      "('covered:', set([]), 'len(covered):', 0, ', len(states_covered):', 0)\n",
      "('station:', 'kone', set(['ut', 'id', 'nv']))\n",
      "('covered:', set(['ut']), 'len(covered):', 1, ', len(states_covered):', 0)\n",
      "('best_station:', 'kone', ', states_covered:', set(['ut']))\n",
      "('states_needed:', set([]))\n",
      "('station:', 'kfour', set(['ut', 'nv']))\n",
      "('covered:', set([]), 'len(covered):', 0, ', len(states_covered):', 1)\n"
     ]
    }
   ],
   "source": [
    "final_stations = set()\n",
    "k=0\n",
    "while states_needed:\n",
    "    print('Round:', k)\n",
    "    print('states_needed:', states_needed)\n",
    "\n",
    "    best_station = None\n",
    "    states_covered = set()\n",
    "\n",
    "    for station, states in stations.items():\n",
    "        print('station:', station, states)\n",
    "        \n",
    "        covered = states_needed & states\n",
    "        print('covered:', covered, 'len(covered):', len(covered), ', len(states_covered):', len(states_covered))\n",
    "\n",
    "        if len(covered) > len(states_covered):\n",
    "            best_station = station\n",
    "            states_covered = covered\n",
    "            print('best_station:', best_station, ', states_covered:', states_covered)\n",
    "\n",
    "            states_needed = states_needed - covered\n",
    "            print('states_needed:', states_needed)\n",
    "    k = k+1\n",
    "    final_stations.add(best_station)"
   ]
  },
  {
   "cell_type": "code",
   "execution_count": 142,
   "metadata": {},
   "outputs": [
    {
     "name": "stdout",
     "output_type": "stream",
     "text": [
      "set(['ktwo', 'kthree', 'kone'])\n"
     ]
    }
   ],
   "source": [
    "print(final_stations)"
   ]
  },
  {
   "cell_type": "code",
   "execution_count": null,
   "metadata": {},
   "outputs": [],
   "source": []
  }
 ],
 "metadata": {
  "kernelspec": {
   "display_name": "Python 2",
   "language": "python",
   "name": "python2"
  },
  "language_info": {
   "codemirror_mode": {
    "name": "ipython",
    "version": 2
   },
   "file_extension": ".py",
   "mimetype": "text/x-python",
   "name": "python",
   "nbconvert_exporter": "python",
   "pygments_lexer": "ipython2",
   "version": "2.7.15"
  }
 },
 "nbformat": 4,
 "nbformat_minor": 2
}
