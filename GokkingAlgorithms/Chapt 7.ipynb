{
 "cells": [
  {
   "cell_type": "markdown",
   "metadata": {},
   "source": [
    "#### Dijkstra's Algorithm"
   ]
  },
  {
   "cell_type": "code",
   "execution_count": 522,
   "metadata": {},
   "outputs": [
    {
     "name": "stdout",
     "output_type": "stream",
     "text": [
      "{'a': {'fin': 1}, 'start': {'a': 6, 'b': 2}, 'b': {'a': 3, 'fin': 5}, 'fin': {}}\n"
     ]
    }
   ],
   "source": [
    "graph = {}\n",
    "graph['start'] = {}\n",
    "graph['start']['a'] = 6\n",
    "graph['start']['b'] = 2\n",
    "\n",
    "graph['a'] = {}\n",
    "graph['a']['fin'] = 1\n",
    "\n",
    "graph['b'] = {}\n",
    "graph['b']['a'] = 3\n",
    "graph['b']['fin'] = 5\n",
    "\n",
    "graph['fin'] = {}\n",
    "print(graph)"
   ]
  },
  {
   "cell_type": "code",
   "execution_count": 459,
   "metadata": {},
   "outputs": [
    {
     "name": "stdout",
     "output_type": "stream",
     "text": [
      "{'a': 6, 'b': 2, 'fin': inf}\n"
     ]
    }
   ],
   "source": [
    "infinity = float('inf')\n",
    "costs = {}\n",
    "costs['a'] = 6\n",
    "costs['b'] = 2\n",
    "\n",
    "costs['fin'] = infinity\n",
    "print(costs)"
   ]
  },
  {
   "cell_type": "code",
   "execution_count": 460,
   "metadata": {},
   "outputs": [
    {
     "name": "stdout",
     "output_type": "stream",
     "text": [
      "{'a': 'start', 'b': 'start', 'fin': None}\n"
     ]
    }
   ],
   "source": [
    "parents = {}\n",
    "parents['a'] = 'start'\n",
    "parents['b'] = 'start'\n",
    "\n",
    "parents['fin'] = None\n",
    "print(parents)"
   ]
  },
  {
   "cell_type": "code",
   "execution_count": 461,
   "metadata": {},
   "outputs": [
    {
     "name": "stdout",
     "output_type": "stream",
     "text": [
      "('lowest_cost_node:', 'b', ', cost:', 2, ', neighbors:', {'a': 3, 'fin': 5})\n",
      "('neighbors[n]:', 'a', ', costs[n]:', 3, 'new_cost:', 5)\n",
      "('before cost[n]:', 6, ', parents:', {'a': 'start', 'b': 'start', 'fin': None})\n",
      "('after cost[n]:', 5, ', parents:', {'a': 'b', 'b': 'start', 'fin': None})\n",
      "('neighbors[n]:', 'fin', ', costs[n]:', 5, 'new_cost:', 7)\n",
      "('before cost[n]:', inf, ', parents:', {'a': 'b', 'b': 'start', 'fin': None})\n",
      "('after cost[n]:', 7, ', parents:', {'a': 'b', 'b': 'start', 'fin': 'b'})\n",
      "('processed:', ['b'])\n",
      "==================================================================\n",
      "('lowest_cost_node:', 'a', ', cost:', 5, ', neighbors:', {'fin': 1})\n",
      "('neighbors[n]:', 'fin', ', costs[n]:', 1, 'new_cost:', 6)\n",
      "('before cost[n]:', 7, ', parents:', {'a': 'b', 'b': 'start', 'fin': 'b'})\n",
      "('after cost[n]:', 6, ', parents:', {'a': 'b', 'b': 'start', 'fin': 'a'})\n",
      "('processed:', ['b', 'a'])\n",
      "==================================================================\n",
      "('lowest_cost_node:', 'fin', ', cost:', 6, ', neighbors:', {})\n",
      "('processed:', ['b', 'a', 'fin'])\n",
      "==================================================================\n"
     ]
    }
   ],
   "source": [
    "processed = []\n",
    "def find_lowest_cost_node(costs):\n",
    "    lowest_cost = float('inf')\n",
    "    lowest_cost_node = None\n",
    "\n",
    "    for node in costs:\n",
    "        cost = costs[node]\n",
    "\n",
    "        if(cost < lowest_cost and node not in processed):\n",
    "            lowest_cost = cost\n",
    "            lowest_cost_node = node\n",
    "\n",
    "    return lowest_cost_node\n",
    "\n",
    "node = find_lowest_cost_node(costs) ##initial loading\n",
    "\n",
    "while(node is not None):\n",
    "    cost = costs[node]\n",
    "    neighbors = graph[node]\n",
    "    print('lowest_cost_node:' ,node, ', cost:', cost, ', neighbors:', neighbors)\n",
    "\n",
    "    for n in neighbors.keys():\n",
    "        new_cost = cost + neighbors[n]\n",
    "        print('neighbors[n]:', n, ', costs[n]:', neighbors[n], 'new_cost:', new_cost)\n",
    "\n",
    "        if costs[n] > new_cost:\n",
    "            print('before cost[n]:', costs[n], ', parents:', parents)\n",
    "            costs[n] = new_cost\n",
    "            parents[n] = node\n",
    "            print('after cost[n]:', costs[n], ', parents:', parents)\n",
    "\n",
    "    processed.append(node)\n",
    "    print('processed:', processed)\n",
    "    node = find_lowest_cost_node(costs)\n",
    "    print('==================================================================')"
   ]
  },
  {
   "cell_type": "code",
   "execution_count": 526,
   "metadata": {},
   "outputs": [],
   "source": [
    "    def graph():\n",
    "        graph = {}\n",
    "        graph['start'] = {}\n",
    "        graph['start']['a'] = 6\n",
    "        graph['start']['b'] = 2\n",
    "\n",
    "        graph['a'] = {}\n",
    "        graph['a']['fin'] = 1\n",
    "\n",
    "        graph['b'] = {}\n",
    "        graph['b']['a'] = 3\n",
    "        graph['b']['fin'] = 5\n",
    "\n",
    "        graph['fin'] = {}\n",
    "    \n",
    "        return graph\n",
    "\n",
    "    def costs():\n",
    "        infinity = float('inf')\n",
    "        costs = {}\n",
    "        costs['a'] = 6\n",
    "        costs['b'] = 2\n",
    "        costs['fin'] = infinity\n",
    "    \n",
    "        return costs\n",
    "\n",
    "    def parents():\n",
    "        parents = {}\n",
    "        parents['a'] = 'start'\n",
    "        parents['b'] = 'start'\n",
    "        parents['fin'] = None\n",
    "    \n",
    "        return parents\n",
    "\n",
    "    #####################\n",
    "    graph = graph()\n",
    "    costs = costs()\n",
    "    parents = parents()\n",
    "    processed = []\n",
    "    #####################\n",
    "\n",
    "    def find_lowest_cost_node(costs):\n",
    "        lowest_cost = float('inf')\n",
    "        lowest_cost_node = None\n",
    "\n",
    "        for node in costs:\n",
    "            cost = costs[node]\n",
    "\n",
    "            if(cost < lowest_cost and node not in processed):\n",
    "                lowest_cost = cost\n",
    "                lowest_cost_node = node\n",
    "\n",
    "        return lowest_cost_node\n",
    "\n",
    "    def find_lowest_cost_weight():\n",
    "        \n",
    "        node = find_lowest_cost_node(costs) ##initial loading\n",
    "\n",
    "        while(node is not None):\n",
    "            cost = costs[node]\n",
    "            neighbors = graph[node]\n",
    "            print('lowest_cost_node:' ,node, ', cost:', cost, ', neighbors:', neighbors)\n",
    "\n",
    "            for n in neighbors.keys():\n",
    "                new_cost = cost + neighbors[n]\n",
    "                print('neighbors[n]:', n, ', costs[n]:', neighbors[n], 'new_cost:', new_cost)\n",
    "\n",
    "                if costs[n] > new_cost:\n",
    "                    print('before cost[n]:', costs[n], ', parents:', parents)\n",
    "                    costs[n] = new_cost\n",
    "                    parents[n] = node\n",
    "                    print('after cost[n]:', costs[n], ', parents:', parents)\n",
    "\n",
    "            processed.append(node)\n",
    "            print('processed:', processed)\n",
    "            node = find_lowest_cost_node(costs)\n",
    "            print('==================================================================')\n",
    "\n",
    "        return costs, parents"
   ]
  },
  {
   "cell_type": "code",
   "execution_count": 527,
   "metadata": {},
   "outputs": [
    {
     "name": "stdout",
     "output_type": "stream",
     "text": [
      "('lowest_cost_node:', 'b', ', cost:', 2, ', neighbors:', {'a': 3, 'fin': 5})\n",
      "('neighbors[n]:', 'a', ', costs[n]:', 3, 'new_cost:', 5)\n",
      "('before cost[n]:', 6, ', parents:', {'a': 'start', 'b': 'start', 'fin': None})\n",
      "('after cost[n]:', 5, ', parents:', {'a': 'b', 'b': 'start', 'fin': None})\n",
      "('neighbors[n]:', 'fin', ', costs[n]:', 5, 'new_cost:', 7)\n",
      "('before cost[n]:', inf, ', parents:', {'a': 'b', 'b': 'start', 'fin': None})\n",
      "('after cost[n]:', 7, ', parents:', {'a': 'b', 'b': 'start', 'fin': 'b'})\n",
      "('processed:', ['b'])\n",
      "==================================================================\n",
      "('lowest_cost_node:', 'a', ', cost:', 5, ', neighbors:', {'fin': 1})\n",
      "('neighbors[n]:', 'fin', ', costs[n]:', 1, 'new_cost:', 6)\n",
      "('before cost[n]:', 7, ', parents:', {'a': 'b', 'b': 'start', 'fin': 'b'})\n",
      "('after cost[n]:', 6, ', parents:', {'a': 'b', 'b': 'start', 'fin': 'a'})\n",
      "('processed:', ['b', 'a'])\n",
      "==================================================================\n",
      "('lowest_cost_node:', 'fin', ', cost:', 6, ', neighbors:', {})\n",
      "('processed:', ['b', 'a', 'fin'])\n",
      "==================================================================\n"
     ]
    },
    {
     "data": {
      "text/plain": [
       "({'a': 5, 'b': 2, 'fin': 6}, {'a': 'b', 'b': 'start', 'fin': 'a'})"
      ]
     },
     "execution_count": 527,
     "metadata": {},
     "output_type": "execute_result"
    }
   ],
   "source": [
    "find_lowest_cost_weight()"
   ]
  },
  {
   "cell_type": "markdown",
   "metadata": {},
   "source": [
    "#### 7-1(A)"
   ]
  },
  {
   "cell_type": "code",
   "execution_count": 537,
   "metadata": {},
   "outputs": [],
   "source": [
    "    def graph():\n",
    "        graph = {}\n",
    "        graph['start'] = {}\n",
    "        graph['start']['a'] = 5\n",
    "        graph['start']['b'] = 2\n",
    "\n",
    "        graph['a'] = {}\n",
    "        graph['a']['c'] = 4\n",
    "        graph['a']['d'] = 2\n",
    "\n",
    "        graph['b'] = {}\n",
    "        graph['b']['a'] = 8\n",
    "        graph['b']['d'] = 7\n",
    "\n",
    "        graph['c'] = {}\n",
    "        graph['c']['d'] = 6\n",
    "        graph['c']['fin'] = 3\n",
    "\n",
    "        graph['d'] = {}\n",
    "        graph['d']['fin'] = 1\n",
    "\n",
    "        graph['fin'] = {}    \n",
    "        return graph\n",
    "\n",
    "    def costs():\n",
    "        infinity = float('inf')\n",
    "        costs = {}\n",
    "        costs['a'] = 5\n",
    "        costs['b'] = 2\n",
    "        costs['c'] = 9\n",
    "        costs['d'] = 15\n",
    "\n",
    "        costs['fin'] = infinity\n",
    "        return(costs)\n",
    "\n",
    "    def parents():\n",
    "        parents = {}\n",
    "        parents['a'] = 'start'\n",
    "        parents['b'] = 'start'\n",
    "        parents['c'] = 'a'\n",
    "        parents['d'] = 'b'\n",
    "\n",
    "        parents['fin'] = None\n",
    "        return(parents)\n",
    "\n",
    "\n",
    "    #####################\n",
    "    graph = graph()\n",
    "    costs = costs()\n",
    "    parents = parents()\n",
    "    processed = []\n",
    "    #####################\n",
    "\n",
    "\n",
    "    def find_lowest_cost_node(costs):\n",
    "        lowest_cost = float('inf')\n",
    "        lowest_cost_node = None\n",
    "\n",
    "        for node in costs:\n",
    "            cost = costs[node]\n",
    "\n",
    "            if(cost < lowest_cost and node not in processed):\n",
    "                lowest_cost = cost\n",
    "                lowest_cost_node = node\n",
    "\n",
    "        return lowest_cost_node\n",
    "\n",
    "    def find_lowest_cost_weight():\n",
    "        \n",
    "        node = find_lowest_cost_node(costs) ##initial loading\n",
    "\n",
    "        while(node is not None):\n",
    "            cost = costs[node]\n",
    "            neighbors = graph[node]\n",
    "            print('lowest_cost_node:' ,node, ', cost:', cost, ', neighbors:', neighbors)\n",
    "\n",
    "            for n in neighbors.keys():\n",
    "                new_cost = cost + neighbors[n]\n",
    "                print('neighbors[n]:', n, ', costs[n]:', neighbors[n], 'new_cost:', new_cost)\n",
    "\n",
    "                if costs[n] > new_cost:\n",
    "                    print('before cost[n]:', costs[n], ', parents:', parents)\n",
    "                    costs[n] = new_cost\n",
    "                    parents[n] = node\n",
    "                    print('after cost[n]:', costs[n], ', parents:', parents)\n",
    "\n",
    "            processed.append(node)\n",
    "            print('processed:', processed)\n",
    "            node = find_lowest_cost_node(costs)\n",
    "            print('==================================================================')\n",
    "\n",
    "        return costs, parents"
   ]
  },
  {
   "cell_type": "code",
   "execution_count": 538,
   "metadata": {},
   "outputs": [
    {
     "name": "stdout",
     "output_type": "stream",
     "text": [
      "('lowest_cost_node:', 'b', ', cost:', 2, ', neighbors:', {'a': 8, 'd': 7})\n",
      "('neighbors[n]:', 'a', ', costs[n]:', 8, 'new_cost:', 10)\n",
      "('neighbors[n]:', 'd', ', costs[n]:', 7, 'new_cost:', 9)\n",
      "('before cost[n]:', 15, ', parents:', {'a': 'start', 'c': 'a', 'b': 'start', 'fin': None, 'd': 'b'})\n",
      "('after cost[n]:', 9, ', parents:', {'a': 'start', 'c': 'a', 'b': 'start', 'fin': None, 'd': 'b'})\n",
      "('processed:', ['b'])\n",
      "==================================================================\n",
      "('lowest_cost_node:', 'a', ', cost:', 5, ', neighbors:', {'c': 4, 'd': 2})\n",
      "('neighbors[n]:', 'c', ', costs[n]:', 4, 'new_cost:', 9)\n",
      "('neighbors[n]:', 'd', ', costs[n]:', 2, 'new_cost:', 7)\n",
      "('before cost[n]:', 9, ', parents:', {'a': 'start', 'c': 'a', 'b': 'start', 'fin': None, 'd': 'b'})\n",
      "('after cost[n]:', 7, ', parents:', {'a': 'start', 'c': 'a', 'b': 'start', 'fin': None, 'd': 'a'})\n",
      "('processed:', ['b', 'a'])\n",
      "==================================================================\n",
      "('lowest_cost_node:', 'd', ', cost:', 7, ', neighbors:', {'fin': 1})\n",
      "('neighbors[n]:', 'fin', ', costs[n]:', 1, 'new_cost:', 8)\n",
      "('before cost[n]:', inf, ', parents:', {'a': 'start', 'c': 'a', 'b': 'start', 'fin': None, 'd': 'a'})\n",
      "('after cost[n]:', 8, ', parents:', {'a': 'start', 'c': 'a', 'b': 'start', 'fin': 'd', 'd': 'a'})\n",
      "('processed:', ['b', 'a', 'd'])\n",
      "==================================================================\n",
      "('lowest_cost_node:', 'fin', ', cost:', 8, ', neighbors:', {})\n",
      "('processed:', ['b', 'a', 'd', 'fin'])\n",
      "==================================================================\n",
      "('lowest_cost_node:', 'c', ', cost:', 9, ', neighbors:', {'fin': 3, 'd': 6})\n",
      "('neighbors[n]:', 'fin', ', costs[n]:', 3, 'new_cost:', 12)\n",
      "('neighbors[n]:', 'd', ', costs[n]:', 6, 'new_cost:', 15)\n",
      "('processed:', ['b', 'a', 'd', 'fin', 'c'])\n",
      "==================================================================\n"
     ]
    },
    {
     "data": {
      "text/plain": [
       "({'a': 5, 'b': 2, 'c': 9, 'd': 7, 'fin': 8},\n",
       " {'a': 'start', 'b': 'start', 'c': 'a', 'd': 'a', 'fin': 'd'})"
      ]
     },
     "execution_count": 538,
     "metadata": {},
     "output_type": "execute_result"
    }
   ],
   "source": [
    "find_lowest_cost_weight()"
   ]
  },
  {
   "cell_type": "markdown",
   "metadata": {},
   "source": [
    "#### 7-2(B)"
   ]
  },
  {
   "cell_type": "code",
   "execution_count": 540,
   "metadata": {},
   "outputs": [],
   "source": [
    "    def graph():\n",
    "        graph = {}\n",
    "        graph['start'] = {}\n",
    "        graph['start']['a'] = 10\n",
    "\n",
    "        graph['a'] = {}\n",
    "        graph['a']['b'] = 20\n",
    "\n",
    "        graph['b'] = {}\n",
    "        graph['b']['c'] = 1\n",
    "        graph['b']['fin'] = 30\n",
    "\n",
    "        graph['c'] = {}\n",
    "        graph['c']['a'] = 1\n",
    "\n",
    "        graph['fin'] = {}  \n",
    "        return graph\n",
    "\n",
    "    def costs():\n",
    "        infinity = float('inf')\n",
    "        costs = {}\n",
    "        costs['a'] = 10\n",
    "        costs['b'] = 30\n",
    "        costs['c'] = 31\n",
    "\n",
    "        costs['fin'] = infinity\n",
    "        return(costs)\n",
    "\n",
    "    def parents():\n",
    "        parents = {}\n",
    "        parents['a'] = 'start'\n",
    "        parents['b'] = 'a'\n",
    "        parents['c'] = 'b'\n",
    "\n",
    "        parents['fin'] = 'b'\n",
    "        return(parents)\n",
    "\n",
    "\n",
    "    #####################\n",
    "    graph = graph()\n",
    "    costs = costs()\n",
    "    parents = parents()\n",
    "    processed = []\n",
    "    #####################\n",
    "\n",
    "\n",
    "    def find_lowest_cost_node(costs):\n",
    "        lowest_cost = float('inf')\n",
    "        lowest_cost_node = None\n",
    "\n",
    "        for node in costs:\n",
    "            cost = costs[node]\n",
    "\n",
    "            if(cost < lowest_cost and node not in processed):\n",
    "                lowest_cost = cost\n",
    "                lowest_cost_node = node\n",
    "\n",
    "        return lowest_cost_node\n",
    "\n",
    "    def find_lowest_cost_weight():\n",
    "        \n",
    "        node = find_lowest_cost_node(costs) ##initial loading\n",
    "\n",
    "        while(node is not None):\n",
    "            cost = costs[node]\n",
    "            neighbors = graph[node]\n",
    "            print('lowest_cost_node:' ,node, ', cost:', cost, ', neighbors:', neighbors)\n",
    "\n",
    "            for n in neighbors.keys():\n",
    "                new_cost = cost + neighbors[n]\n",
    "                print('neighbors[n]:', n, ', costs[n]:', neighbors[n], 'new_cost:', new_cost)\n",
    "\n",
    "                if costs[n] > new_cost:\n",
    "                    print('before cost[n]:', costs[n], ', parents:', parents)\n",
    "                    costs[n] = new_cost\n",
    "                    parents[n] = node\n",
    "                    print('after cost[n]:', costs[n], ', parents:', parents)\n",
    "\n",
    "            processed.append(node)\n",
    "            print('processed:', processed)\n",
    "            node = find_lowest_cost_node(costs)\n",
    "            print('==================================================================')\n",
    "\n",
    "        return costs, parents"
   ]
  },
  {
   "cell_type": "code",
   "execution_count": 541,
   "metadata": {},
   "outputs": [
    {
     "name": "stdout",
     "output_type": "stream",
     "text": [
      "('lowest_cost_node:', 'a', ', cost:', 10, ', neighbors:', {'b': 20})\n",
      "('neighbors[n]:', 'b', ', costs[n]:', 20, 'new_cost:', 30)\n",
      "('processed:', ['a'])\n",
      "==================================================================\n",
      "('lowest_cost_node:', 'b', ', cost:', 30, ', neighbors:', {'c': 1, 'fin': 30})\n",
      "('neighbors[n]:', 'c', ', costs[n]:', 1, 'new_cost:', 31)\n",
      "('neighbors[n]:', 'fin', ', costs[n]:', 30, 'new_cost:', 60)\n",
      "('before cost[n]:', inf, ', parents:', {'a': 'start', 'c': 'b', 'b': 'a', 'fin': 'b'})\n",
      "('after cost[n]:', 60, ', parents:', {'a': 'start', 'c': 'b', 'b': 'a', 'fin': 'b'})\n",
      "('processed:', ['a', 'b'])\n",
      "==================================================================\n",
      "('lowest_cost_node:', 'c', ', cost:', 31, ', neighbors:', {'a': 1})\n",
      "('neighbors[n]:', 'a', ', costs[n]:', 1, 'new_cost:', 32)\n",
      "('processed:', ['a', 'b', 'c'])\n",
      "==================================================================\n",
      "('lowest_cost_node:', 'fin', ', cost:', 60, ', neighbors:', {})\n",
      "('processed:', ['a', 'b', 'c', 'fin'])\n",
      "==================================================================\n"
     ]
    },
    {
     "data": {
      "text/plain": [
       "({'a': 10, 'b': 30, 'c': 31, 'fin': 60},\n",
       " {'a': 'start', 'b': 'a', 'c': 'b', 'fin': 'b'})"
      ]
     },
     "execution_count": 541,
     "metadata": {},
     "output_type": "execute_result"
    }
   ],
   "source": [
    "find_lowest_cost_weight()"
   ]
  },
  {
   "cell_type": "code",
   "execution_count": null,
   "metadata": {},
   "outputs": [],
   "source": []
  },
  {
   "cell_type": "code",
   "execution_count": null,
   "metadata": {},
   "outputs": [],
   "source": []
  },
  {
   "cell_type": "code",
   "execution_count": null,
   "metadata": {},
   "outputs": [],
   "source": []
  },
  {
   "cell_type": "markdown",
   "metadata": {},
   "source": [
    "#### test for class"
   ]
  },
  {
   "cell_type": "code",
   "execution_count": 545,
   "metadata": {},
   "outputs": [],
   "source": [
    "class Dijkstra:\n",
    "    def __init__(self):\n",
    "        self.final_cost = []\n",
    "        self.final_parents = []\n",
    "\n",
    "    def graph():\n",
    "        graph = {}\n",
    "        graph['start'] = {}\n",
    "        graph['start']['a'] = 6\n",
    "        graph['start']['b'] = 2\n",
    "\n",
    "        graph['a'] = {}\n",
    "        graph['a']['fin'] = 1\n",
    "\n",
    "        graph['b'] = {}\n",
    "        graph['b']['a'] = 3\n",
    "        graph['b']['fin'] = 5\n",
    "\n",
    "        graph['fin'] = {}\n",
    "    \n",
    "        return graph\n",
    "\n",
    "    def costs():\n",
    "        infinity = float('inf')\n",
    "        costs = {}\n",
    "        costs['a'] = 6\n",
    "        costs['b'] = 2\n",
    "        costs['fin'] = infinity\n",
    "    \n",
    "        return costs\n",
    "\n",
    "    def parents():\n",
    "        parents = {}\n",
    "        parents['a'] = 'start'\n",
    "        parents['b'] = 'start'\n",
    "        parents['fin'] = None\n",
    "    \n",
    "        return parents\n",
    "\n",
    "    graph = graph()\n",
    "    costs = costs()\n",
    "    parents = parents()\n",
    "    processed = []\n",
    "\n",
    "    def find_lowest_cost_node(costs):\n",
    "        lowest_cost = float('inf')\n",
    "        lowest_cost_node = None\n",
    "\n",
    "        for node in costs:\n",
    "            cost = costs[node]\n",
    "\n",
    "            if(cost < lowest_cost and node not in processed):\n",
    "                lowest_cost = cost\n",
    "                lowest_cost_node = node\n",
    "\n",
    "        return lowest_cost_node\n",
    "\n",
    "    def find_lowest_cost_weight():\n",
    "        \n",
    "        node = find_lowest_cost_node(costs) ##initial loading\n",
    "\n",
    "        while(node is not None):\n",
    "            cost = costs[node]\n",
    "            neighbors = graph[node]\n",
    "            print('lowest_cost_node:' ,node, ', cost:', cost, ', neighbors:', neighbors)\n",
    "\n",
    "            for n in neighbors.keys():\n",
    "                new_cost = cost + neighbors[n]\n",
    "                print('neighbors[n]:', n, ', costs[n]:', neighbors[n], 'new_cost:', new_cost)\n",
    "\n",
    "                if costs[n] > new_cost:\n",
    "                    print('before cost[n]:', costs[n], ', parents:', parents)\n",
    "                    costs[n] = new_cost\n",
    "                    parents[n] = node\n",
    "                    print('after cost[n]:', costs[n], ', parents:', parents)\n",
    "\n",
    "            processed.append(node)\n",
    "            print('processed:', processed)\n",
    "            node = find_lowest_cost_node(costs)         \n",
    "            print('==================================================================')\n",
    "\n",
    "        final_cost.append(cost)\n",
    "        final_parents.append(parents)\n",
    "\n",
    "        return final_cost, final_parents"
   ]
  },
  {
   "cell_type": "code",
   "execution_count": 546,
   "metadata": {},
   "outputs": [
    {
     "data": {
      "text/plain": [
       "<bound method Dijkstra.find_lowest_cost_weight of <__main__.Dijkstra instance at 0x0000000004C8BB88>>"
      ]
     },
     "execution_count": 546,
     "metadata": {},
     "output_type": "execute_result"
    }
   ],
   "source": [
    "d = Dijkstra()\n",
    "d.find_lowest_cost_weight"
   ]
  },
  {
   "cell_type": "code",
   "execution_count": null,
   "metadata": {},
   "outputs": [],
   "source": []
  }
 ],
 "metadata": {
  "kernelspec": {
   "display_name": "Python 2",
   "language": "python",
   "name": "python2"
  },
  "language_info": {
   "codemirror_mode": {
    "name": "ipython",
    "version": 2
   },
   "file_extension": ".py",
   "mimetype": "text/x-python",
   "name": "python",
   "nbconvert_exporter": "python",
   "pygments_lexer": "ipython2",
   "version": "2.7.15"
  }
 },
 "nbformat": 4,
 "nbformat_minor": 2
}
