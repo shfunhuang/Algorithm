{
 "cells": [
  {
   "cell_type": "code",
   "execution_count": 35,
   "metadata": {},
   "outputs": [
    {
     "name": "stdout",
     "output_type": "stream",
     "text": [
      "Populating the interactive namespace from numpy and matplotlib\n"
     ]
    }
   ],
   "source": [
    "import matplotlib.pyplot as plt\n",
    "import math\n",
    "import numpy as np\n",
    "%pylab inline"
   ]
  },
  {
   "cell_type": "code",
   "execution_count": 36,
   "metadata": {},
   "outputs": [
    {
     "name": "stderr",
     "output_type": "stream",
     "text": [
      "C:\\Anaconda2.7\\lib\\site-packages\\ipykernel_launcher.py:2: RuntimeWarning: divide by zero encountered in log2\n",
      "  \n"
     ]
    },
    {
     "data": {
      "text/plain": [
       "array([      -inf, 0.        , 1.        , 1.5849625 , 2.        ,\n",
       "       2.32192809, 2.5849625 , 2.80735492, 3.        , 3.169925  ,\n",
       "       3.32192809, 3.45943162, 3.5849625 , 3.70043972, 3.80735492,\n",
       "       3.9068906 , 4.        , 4.08746284, 4.169925  , 4.24792751,\n",
       "       4.32192809, 4.39231742, 4.45943162, 4.52356196, 4.5849625 ,\n",
       "       4.64385619, 4.70043972, 4.7548875 , 4.80735492, 4.857981  ,\n",
       "       4.9068906 , 4.95419631, 5.        , 5.04439412, 5.08746284,\n",
       "       5.12928302, 5.169925  , 5.20945337, 5.24792751, 5.28540222,\n",
       "       5.32192809, 5.357552  , 5.39231742, 5.42626475, 5.45943162,\n",
       "       5.4918531 , 5.52356196, 5.55458885, 5.5849625 , 5.61470984,\n",
       "       5.64385619, 5.67242534, 5.70043972, 5.72792045, 5.7548875 ,\n",
       "       5.78135971, 5.80735492, 5.83289001, 5.857981  , 5.88264305,\n",
       "       5.9068906 , 5.93073734, 5.95419631, 5.97727992, 6.        ,\n",
       "       6.02236781, 6.04439412, 6.06608919, 6.08746284, 6.10852446,\n",
       "       6.12928302, 6.14974712, 6.169925  , 6.18982456, 6.20945337,\n",
       "       6.22881869, 6.24792751, 6.26678654, 6.28540222, 6.30378075,\n",
       "       6.32192809, 6.33985   , 6.357552  , 6.37503943, 6.39231742,\n",
       "       6.40939094, 6.42626475, 6.4429435 , 6.45943162, 6.47573343,\n",
       "       6.4918531 , 6.50779464, 6.52356196, 6.53915881, 6.55458885,\n",
       "       6.56985561, 6.5849625 , 6.59991284, 6.61470984, 6.62935662])"
      ]
     },
     "execution_count": 36,
     "metadata": {},
     "output_type": "execute_result"
    }
   ],
   "source": [
    "x = np.array(range(0,100))\n",
    "y = np.log2(x)\n",
    "y"
   ]
  },
  {
   "cell_type": "code",
   "execution_count": 37,
   "metadata": {},
   "outputs": [
    {
     "data": {
      "text/plain": [
       "[<matplotlib.lines.Line2D at 0x9bf8ef0>]"
      ]
     },
     "execution_count": 37,
     "metadata": {},
     "output_type": "execute_result"
    },
    {
     "data": {
      "image/png": "[encoded data removed]",
      "text/plain": [
       "<Figure size 432x288 with 1 Axes>"
      ]
     },
     "metadata": {
      "needs_background": "light"
     },
     "output_type": "display_data"
    }
   ],
   "source": [
    "plt.plot(x, y, 'y+')"
   ]
  }
 ],
 "metadata": {
  "kernelspec": {
   "display_name": "Python 2",
   "language": "python",
   "name": "python2"
  },
  "language_info": {
   "codemirror_mode": {
    "name": "ipython",
    "version": 2
   },
   "file_extension": ".py",
   "mimetype": "text/x-python",
   "name": "python",
   "nbconvert_exporter": "python",
   "pygments_lexer": "ipython2",
   "version": "2.7.15"
  }
 },
 "nbformat": 4,
 "nbformat_minor": 2
}
